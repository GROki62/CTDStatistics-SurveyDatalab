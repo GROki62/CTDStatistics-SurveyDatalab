{
 "cells": [
  {
   "cell_type": "code",
   "execution_count": 1,
   "id": "f7cecfb1",
   "metadata": {},
   "outputs": [
    {
     "ename": "ModuleNotFoundError",
     "evalue": "No module named 'matplotlib.pylot'",
     "output_type": "error",
     "traceback": [
      "\u001b[1;31m---------------------------------------------------------------------------\u001b[0m",
      "\u001b[1;31mModuleNotFoundError\u001b[0m                       Traceback (most recent call last)",
      "Input \u001b[1;32mIn [1]\u001b[0m, in \u001b[0;36m<cell line: 5>\u001b[1;34m()\u001b[0m\n\u001b[0;32m      1\u001b[0m \u001b[38;5;66;03m#reference: https://github.com/fivethirtyeight/data/blob/master/congress-age/congress-terms.csv\u001b[39;00m\n\u001b[0;32m      2\u001b[0m \u001b[38;5;66;03m#import dependencies\u001b[39;00m\n\u001b[0;32m      3\u001b[0m \u001b[38;5;66;03m#using the following additions, need to learn how to use: https://jakevdp.github.io/PythonDataScienceHandbook/04.11-settings-and-stylesheets.html, https://jakevdp.github.io/PythonDataScienceHandbook/04.14-visualization-with-seaborn.html\u001b[39;00m\n\u001b[0;32m      4\u001b[0m \u001b[38;5;28;01mimport\u001b[39;00m \u001b[38;5;21;01mpandas\u001b[39;00m \u001b[38;5;28;01mas\u001b[39;00m \u001b[38;5;21;01mpd\u001b[39;00m\n\u001b[1;32m----> 5\u001b[0m \u001b[38;5;28;01mimport\u001b[39;00m \u001b[38;5;21;01mmatplotlib\u001b[39;00m\u001b[38;5;21;01m.\u001b[39;00m\u001b[38;5;21;01mpylot\u001b[39;00m \u001b[38;5;28;01mas\u001b[39;00m \u001b[38;5;21;01mplt\u001b[39;00m\n",
      "\u001b[1;31mModuleNotFoundError\u001b[0m: No module named 'matplotlib.pylot'"
     ]
    }
   ],
   "source": [
    "#reference: https://github.com/fivethirtyeight/data/blob/master/congress-age/congress-terms.csv\n",
    "#import dependencies\n",
    "#using the following additions, need to learn how to use: https://jakevdp.github.io/PythonDataScienceHandbook/04.11-settings-and-stylesheets.html, https://jakevdp.github.io/PythonDataScienceHandbook/04.14-visualization-with-seaborn.html\n",
    "import pandas as pd\n",
    "import matplotlib.pylot as plt"
   ]
  },
  {
   "cell_type": "code",
   "execution_count": null,
   "id": "2b86a19b",
   "metadata": {},
   "outputs": [],
   "source": [
    "#read in congress terms dataset\n",
    "file = '../communitycollege_surveydatalab.xlsx'\n",
    "df = pd.read_excel(file)\n",
    "print(df.head())"
   ]
  },
  {
   "cell_type": "code",
   "execution_count": 1,
   "id": "9f81cd55",
   "metadata": {},
   "outputs": [
    {
     "ename": "NameError",
     "evalue": "name 'df' is not defined",
     "output_type": "error",
     "traceback": [
      "\u001b[1;31m---------------------------------------------------------------------------\u001b[0m",
      "\u001b[1;31mNameError\u001b[0m                                 Traceback (most recent call last)",
      "Input \u001b[1;32mIn [1]\u001b[0m, in \u001b[0;36m<cell line: 2>\u001b[1;34m()\u001b[0m\n\u001b[0;32m      1\u001b[0m \u001b[38;5;66;03m#list columns in data frame\u001b[39;00m\n\u001b[1;32m----> 2\u001b[0m \u001b[38;5;28mprint\u001b[39m(\u001b[38;5;28mlist\u001b[39m(\u001b[43mdf\u001b[49m))\n\u001b[0;32m      3\u001b[0m \u001b[38;5;28mprint\u001b[39m(\u001b[38;5;28mlen\u001b[39m(df))\n\u001b[0;32m      4\u001b[0m \u001b[38;5;28mprint\u001b[39m(\u001b[38;5;28mlen\u001b[39m(\u001b[38;5;28mlist\u001b[39m(df)))\n",
      "\u001b[1;31mNameError\u001b[0m: name 'df' is not defined"
     ]
    }
   ],
   "source": [
    "#list columns in data frame\n",
    "print(list(df))\n",
    "print(len(df))\n",
    "print(len(list(df)))"
   ]
  },
  {
   "cell_type": "code",
   "execution_count": null,
   "id": "4fab7d37",
   "metadata": {},
   "outputs": [],
   "source": [
    "#output frequency table of chosen column in dataset\n",
    "col = 'Q3' #<-edit this value! column name as it appears in dataframe\n",
    "col_name = 'Does my work bring a feeling of personal accomplishment' #<-edit this value! descriptive name for column\n",
    "freq = df[col].value_counts().rename_axis(col_name).reset_index(name='freq')\n",
    "freq = freq.sort_values(by = col_name)\n",
    "print(freq)"
   ]
  },
  {
   "cell_type": "code",
   "execution_count": null,
   "id": "4c701572",
   "metadata": {},
   "outputs": [],
   "source": [
    "#replace codes with descriptive labels\n",
    "#if your dataframe already has descriptive labels, you don't need to run this cell\n",
    "codebook = [['1', 'Strongly Disagree'], #<- if appropriate, replace these values based on codebook or data dictionary for your dataset\n",
    "            ['2' , 'Diagree'],\n",
    "            ['3', 'Neutral'],\n",
    "            ['4', 'Agree'],\n",
    "            ['5', 'Strongly Agree']]\n",
    "#loops through label codes and replaces them in frequency table\n",
    "for lbl in codebook:\n",
    "    #use line below if codes are stored as integers\n",
    "    freq[col_name] = freq[col_name].replace(int(lbl[0]), lbl[1])\n",
    "    #use line below if codes are stored as strings\n",
    "    #freq[col_name] = freq[col_name].replace(lbl[0], lbl[1])\n",
    "#prints updated frequency table\n",
    "print(freq)"
   ]
  },
  {
   "cell_type": "code",
   "execution_count": null,
   "id": "08097d48",
   "metadata": {},
   "outputs": [],
   "source": [
    "#create frequency chart\n",
    "ax = freq.plot.barh(x=col_name, y='freq', rot=0)"
   ]
  }
 ],
 "metadata": {
  "kernelspec": {
   "display_name": "Python 3 (ipykernel)",
   "language": "python",
   "name": "python3"
  },
  "language_info": {
   "codemirror_mode": {
    "name": "ipython",
    "version": 3
   },
   "file_extension": ".py",
   "mimetype": "text/x-python",
   "name": "python",
   "nbconvert_exporter": "python",
   "pygments_lexer": "ipython3",
   "version": "3.9.12"
  }
 },
 "nbformat": 4,
 "nbformat_minor": 5
}
